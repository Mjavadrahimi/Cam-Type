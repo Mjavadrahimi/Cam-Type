{
 "cells": [
  {
   "cell_type": "code",
   "execution_count": 13,
   "id": "8c8c0dfb-9498-47d0-a37f-4bd02e974455",
   "metadata": {
    "ExecuteTime": {
     "end_time": "2024-04-02T03:47:36.831518500Z",
     "start_time": "2024-04-02T03:47:36.827529800Z"
    }
   },
   "outputs": [],
   "source": [
    "import time\n",
    "import cv2 as cv\n",
    "import mediapipe as mp\n",
    "from PIL import Image, ImageDraw\n",
    "from matplotlib import pyplot as plt\n",
    "from models.hand_gesture import HandGesture\n",
    "from models.hand_gesture import normalized_landmarks, landmark_bbox\n",
    "from models.character_recognize import CharacterRecognize"
   ]
  },
  {
   "cell_type": "code",
   "execution_count": 14,
   "id": "6059c00f-5776-4446-abfa-7664685f6d65",
   "metadata": {
    "ExecuteTime": {
     "end_time": "2024-04-02T03:47:36.836504800Z",
     "start_time": "2024-04-02T03:47:36.831518500Z"
    }
   },
   "outputs": [],
   "source": [
    "PATH = 'data/videos/test.mp4'\n",
    "GESTURE_MODEL_PATH = 'models/hand_gesture_model.pth'\n",
    "CHARACTER_MODEL_PATH = 'models/character_recognizer_model.pth'"
   ]
  },
  {
   "cell_type": "code",
   "outputs": [
    {
     "name": "stdout",
     "output_type": "stream",
     "text": [
      "[(4, 5), (25, 25), (16, 4)]\n"
     ]
    }
   ],
   "source": [
    "def position_scaler(points):  # scales to 28*28 pixel\n",
    "    x_values = [point[0] for point in points]\n",
    "    y_values = [point[1] for point in points]\n",
    "\n",
    "    min_x, max_x = min(x_values), max(x_values)\n",
    "    min_y, max_y = min(y_values), max(y_values)\n",
    "\n",
    "    scaled_points = []\n",
    "    for x, y in points:  # 4 to 25\n",
    "        scaled_x = 4 + ((x - min_x) * (22 - 1)) // (max_x - min_x)\n",
    "        scaled_y = 4 + ((y - min_y) * (22 - 1)) // (max_y - min_y)\n",
    "        scaled_points.append((scaled_x, scaled_y))\n",
    "    return scaled_points\n",
    "\n",
    "\n",
    "points = [(14, 15), (70, 70), (48, 12)]\n",
    "print(position_scaler(points))"
   ],
   "metadata": {
    "collapsed": false,
    "ExecuteTime": {
     "end_time": "2024-04-02T03:47:36.842051500Z",
     "start_time": "2024-04-02T03:47:36.837502900Z"
    }
   },
   "id": "366cb62781767c23",
   "execution_count": 15
  },
  {
   "cell_type": "code",
   "outputs": [
    {
     "data": {
      "text/plain": "<matplotlib.image.AxesImage at 0x20b5a182d10>"
     },
     "execution_count": 16,
     "metadata": {},
     "output_type": "execute_result"
    },
    {
     "data": {
      "text/plain": "<Figure size 640x480 with 1 Axes>",
      "image/png": "[encoded data removed]"
     },
     "metadata": {},
     "output_type": "display_data"
    }
   ],
   "source": [
    "def position_to_image(positions):  # positions to 28*28 image\n",
    "    positions = position_scaler(positions)\n",
    "    image_size = (28, 28)\n",
    "    image = Image.new(\"L\", image_size, color=\"black\")\n",
    "    draw = ImageDraw.Draw(image)\n",
    "    for i in range(1, len(positions)):\n",
    "        x1, y1 = positions[i - 1]\n",
    "        x2, y2 = positions[i]\n",
    "        draw.line([(x1, y1), (x2, y2)], width=3, fill=\"white\")\n",
    "    return image\n",
    "\n",
    "\n",
    "image = position_to_image([(1, 3), (5, 20), (140, 120)])\n",
    "plt.imshow(image, cmap='grey')"
   ],
   "metadata": {
    "collapsed": false,
    "ExecuteTime": {
     "end_time": "2024-04-02T03:47:36.942657800Z",
     "start_time": "2024-04-02T03:47:36.843049500Z"
    }
   },
   "id": "b54b79477f7f00f8",
   "execution_count": 16
  },
  {
   "cell_type": "code",
   "execution_count": 60,
   "id": "04e058f7-5c14-45c1-87da-32e43cdb5a40",
   "metadata": {
    "ExecuteTime": {
     "end_time": "2024-04-02T04:48:37.455131700Z",
     "start_time": "2024-04-02T04:48:27.905463800Z"
    }
   },
   "outputs": [
    {
     "data": {
      "text/plain": "<Figure size 640x480 with 1 Axes>",
      "image/png": "[encoded data removed]"
     },
     "metadata": {},
     "output_type": "display_data"
    }
   ],
   "source": [
    "video = cv.VideoCapture(PATH)\n",
    "\n",
    "mp_hands = mp.solutions.hands\n",
    "mp_drawing = mp.solutions.drawing_utils\n",
    "mp_drawing_styles = mp.solutions.drawing_styles\n",
    "hands = mp_hands.Hands(min_detection_confidence=0.5, min_tracking_confidence=0.5)\n",
    "\n",
    "Trail = []\n",
    "gesture_recognizer = HandGesture(GESTURE_MODEL_PATH)\n",
    "character_recognizer = CharacterRecognize(CHARACTER_MODEL_PATH)\n",
    "\n",
    "clenched_fist_timer = None\n",
    "open_palm_timer = None\n",
    "text = \"\"\n",
    "while video.isOpened():\n",
    "    ret, frame = video.read()\n",
    "    if ret:\n",
    "        frame_rgb = cv.cvtColor(frame, cv.COLOR_BGR2RGB)\n",
    "        results = hands.process(frame_rgb)\n",
    "        H, W, _ = frame.shape\n",
    "        if results.multi_hand_landmarks:\n",
    "            for hand_landmarks in results.multi_hand_landmarks:\n",
    "                position = normalized_landmarks(hand_landmarks, H, W)\n",
    "                pred, confidence = gesture_recognizer.predict(position)\n",
    "                pred = pred.replace('_', ' ')\n",
    "\n",
    "                if pred == 'index finger up' and confidence > 0.99:\n",
    "                    gesture = 'Index finger up'\n",
    "                elif pred == 'clenched fist' and confidence > 0.97:\n",
    "                    gesture = 'Clenched fist'\n",
    "                elif pred == 'open palm' and confidence > 0.98:\n",
    "                    gesture = 'Open palm'\n",
    "                else:\n",
    "                    gesture = 'No gesture'\n",
    "\n",
    "                if gesture == 'Index finger up':\n",
    "                    index_finger = hand_landmarks.landmark[mp_hands.HandLandmark.INDEX_FINGER_TIP]\n",
    "                    cx, cy = int(index_finger.x * W), int(index_finger.y * H)\n",
    "                    Trail.append((cx, cy))\n",
    "                elif gesture == 'Clenched fist':\n",
    "                    if clenched_fist_timer is None:\n",
    "                        clenched_fist_timer = time.time()\n",
    "                    elif time.time() - clenched_fist_timer > 0.5:\n",
    "                        if Trail:\n",
    "                            image = position_to_image(Trail)\n",
    "                            plt.imshow(image, cmap='grey')\n",
    "                            character_pred = character_recognizer.predict(image)\n",
    "                            plt.show()\n",
    "                            predict = character_pred[0]\n",
    "                            text += predict\n",
    "                        # else:  # if no Trail is null it can be interpreted as a 'space' character.\n",
    "                        #     text += \" \" \n",
    "                        clenched_fist_timer = None\n",
    "                        Trail = []\n",
    "                elif gesture == 'Open palm':\n",
    "                    if open_palm_timer is None:\n",
    "                        open_palm_timer = time.time()\n",
    "                    elif time.time() - open_palm_timer > 2:\n",
    "                        open_palm_timer = None\n",
    "                        if text:  # interpreted as backspace/delete character\n",
    "                            text = text[:-1]\n",
    "                        Trail = []\n",
    "\n",
    "                # reset timers \n",
    "                if gesture != 'Clenched fist': clenched_fist_timer = None\n",
    "                if gesture != 'Open palm': open_palm_timer = None\n",
    "\n",
    "                x1, y1, x2, y2 = landmark_bbox(hand_landmarks, H, W)\n",
    "                cv.rectangle(frame, (int(x1), int(y1)), (int(x2), int(y2)), (0, 0, 0), 2)\n",
    "                if gesture != 'No gesture':\n",
    "                    cv.putText(frame, f'{gesture} | confidence : {confidence:0.3}', (int(x1), int(y1)),\n",
    "                               cv.FONT_HERSHEY_SIMPLEX, 0.5, (0, 255, 0), 1, cv.LINE_AA)\n",
    "                else:\n",
    "                    cv.putText(frame, f'{gesture}', (int(x1), int(y1)),\n",
    "                               cv.FONT_HERSHEY_SIMPLEX, 0.5, (0, 0, 0), 1, cv.LINE_AA)\n",
    "        cv.rectangle()\n",
    "        cv.putText(frame, f'text: {text}', (30, H - 30),\n",
    "                   cv.FONT_HERSHEY_SIMPLEX, 3, (0, 0, 0), 10, cv.LINE_AA)\n",
    "        for i in Trail:\n",
    "            cv.circle(frame, i, 8, (0, 255, 0), cv.FILLED)\n",
    "        cv.imshow('frame', frame)\n",
    "\n",
    "        if cv.waitKey(25) & 0xFF == ord('q'):\n",
    "            break\n",
    "    else:\n",
    "        break\n",
    "video.release()\n",
    "cv.destroyAllWindows()"
   ]
  }
 ],
 "metadata": {
  "kernelspec": {
   "display_name": "Python 3 (ipykernel)",
   "language": "python",
   "name": "python3"
  },
  "language_info": {
   "codemirror_mode": {
    "name": "ipython",
    "version": 3
   },
   "file_extension": ".py",
   "mimetype": "text/x-python",
   "name": "python",
   "nbconvert_exporter": "python",
   "pygments_lexer": "ipython3",
   "version": "3.11.5"
  }
 },
 "nbformat": 4,
 "nbformat_minor": 5
}
